{
  "nbformat": 4,
  "nbformat_minor": 0,
  "metadata": {
    "colab": {
      "name": "train.ipynb",
      "provenance": [],
      "toc_visible": true
    },
    "kernelspec": {
      "name": "python3",
      "display_name": "Python 3"
    },
    "accelerator": "GPU"
  },
  "cells": [
    {
      "cell_type": "markdown",
      "metadata": {
        "id": "WuciR-oOnmAT"
      },
      "source": [
        "# Train Acumen Model"
      ]
    },
    {
      "cell_type": "code",
      "metadata": {
        "colab": {
          "base_uri": "https://localhost:8080/"
        },
        "id": "dVdMPkpHnWCb",
        "outputId": "8445358f-3c7f-4ff7-de61-9f2e4fa57e3b"
      },
      "source": [
        "from google.colab import drive\r\n",
        "drive.mount('/content/drive/', force_remount=True)"
      ],
      "execution_count": null,
      "outputs": []
    },
    {
      "cell_type": "code",
      "metadata": {
        "id": "JuNJ0oDLns0s"
      },
      "source": [
        "import os\r\n",
        "os.chdir('drive/My Drive/acumen-chip-cv') # CHANGE TO THE PATH OF YOUR ROOT FOLDER"
      ],
      "execution_count": null,
      "outputs": []
    },
    {
      "cell_type": "code",
      "metadata": {
        "colab": {
          "base_uri": "https://localhost:8080/"
        },
        "id": "kYRwl20Tn1Mk",
        "outputId": "61a4c9a6-7ead-4fea-9274-c2cf96967575"
      },
      "source": [
        "!pip install -r requirements.txt\r\n",
        "!python3 setup.py install"
      ],
      "execution_count": null,
      "outputs": []
    },
    {
      "cell_type": "code",
      "metadata": {
        "colab": {
          "base_uri": "https://localhost:8080/"
        },
        "id": "53mfm0vjn9f-",
        "outputId": "2d26a6d3-1a94-43c2-af3b-bda521c52e92"
      },
      "source": [
        "# Ensure that tensorflow version is 1.x\r\n",
        "%tensorflow_version 1.x"
      ],
      "execution_count": null,
      "outputs": []
    },
    {
      "cell_type": "code",
      "metadata": {
        "colab": {
          "base_uri": "https://localhost:8080/"
        },
        "id": "0KMcCMYboFlK",
        "outputId": "011cbaa7-4bc5-4d6f-a096-6ef79ec71f90"
      },
      "source": [
        "!python3 acumen_config.py train --dataset=./datasets --weights=./mask_rcnn_acumen_final.h5 --logs=./logs # CHANGE THE PATHS ACCORDINGLY"
      ],
      "execution_count": null,
      "outputs": []
    }
  ]
}